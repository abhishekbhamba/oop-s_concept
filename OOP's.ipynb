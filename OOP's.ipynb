{
  "nbformat": 4,
  "nbformat_minor": 0,
  "metadata": {
    "colab": {
      "name": "OOP's.ipynb",
      "provenance": [],
      "collapsed_sections": []
    },
    "kernelspec": {
      "name": "python3",
      "display_name": "Python 3"
    },
    "language_info": {
      "name": "python"
    }
  },
  "cells": [
    {
      "cell_type": "code",
      "execution_count": 1,
      "metadata": {
        "id": "PNLV7cLeVSer"
      },
      "outputs": [],
      "source": [
        "import numpy as np"
      ]
    },
    {
      "cell_type": "code",
      "source": [
        ""
      ],
      "metadata": {
        "id": "YLGUnscZWhiz"
      },
      "execution_count": 1,
      "outputs": []
    },
    {
      "cell_type": "markdown",
      "source": [
        "In python indentation is must."
      ],
      "metadata": {
        "id": "QD0EkbNgWibB"
      }
    },
    {
      "cell_type": "code",
      "source": [
        "# so, here i am making class with name of computer\n",
        "\n",
        "class computer:\n",
        "  def config(self):\n",
        "    print(\"i5,16gb,1TB\")\n",
        "\n",
        "\n",
        "com1 = computer()      # object\n",
        "com2 = computer()     # object\n",
        "\n",
        "computer.config(com1)    # you can use this\n",
        "computer.config(com2)    # this also\n",
        "\n",
        "\n",
        "com1.config()     # and it is also same as bove\n",
        "com2.config()     # also this\n"
      ],
      "metadata": {
        "colab": {
          "base_uri": "https://localhost:8080/"
        },
        "id": "QvBIYr5wVWL0",
        "outputId": "0402ed25-47ba-411b-c213-d08b375f2991"
      },
      "execution_count": 2,
      "outputs": [
        {
          "output_type": "stream",
          "name": "stdout",
          "text": [
            "i5,16gb,1TB\n",
            "i5,16gb,1TB\n",
            "i5,16gb,1TB\n",
            "i5,16gb,1TB\n"
          ]
        }
      ]
    },
    {
      "cell_type": "code",
      "source": [
        ""
      ],
      "metadata": {
        "id": "gTx8OkiDWFIx"
      },
      "execution_count": 2,
      "outputs": []
    },
    {
      "cell_type": "code",
      "source": [
        ""
      ],
      "metadata": {
        "id": "RTk3mk5YXZdA"
      },
      "execution_count": 2,
      "outputs": []
    },
    {
      "cell_type": "code",
      "source": [
        "# here definig clss.\n",
        "\n",
        "class computer:\n",
        "  def __init__(self,cpu,ram):    # init constructor\n",
        "    self.cpu = cpu\n",
        "    self.ram = ram\n",
        "\n",
        "\n",
        "  def config(self):\n",
        "    print(\"config is\", self.cpu, self.ram)\n",
        "\n",
        "\n",
        "com1 = computer('i5',16)                # object\n",
        "com2 = computer('Ryzen3',8)              # object(attributes)\n",
        "\n",
        "\n",
        "com1.config()      # printing in that way\n",
        "com2.config()       # here it is same also"
      ],
      "metadata": {
        "colab": {
          "base_uri": "https://localhost:8080/"
        },
        "id": "aPvvnoeSXb3_",
        "outputId": "14d64463-9870-4449-ab0c-7b6762ad01d3"
      },
      "execution_count": 3,
      "outputs": [
        {
          "output_type": "stream",
          "name": "stdout",
          "text": [
            "config is i5 16\n",
            "config is Ryzen3 8\n"
          ]
        }
      ]
    },
    {
      "cell_type": "code",
      "source": [
        ""
      ],
      "metadata": {
        "id": "Ll82qSxGYgt9"
      },
      "execution_count": 3,
      "outputs": []
    },
    {
      "cell_type": "code",
      "source": [
        ""
      ],
      "metadata": {
        "id": "G3nGdhgXZ4dM"
      },
      "execution_count": 3,
      "outputs": []
    },
    {
      "cell_type": "code",
      "source": [
        "class computer:\n",
        "  def __init__(self):\n",
        "    self.name = \"Abhishek\"\n",
        "    self.age = 23\n",
        "\n",
        "  def compare(self,other):\n",
        "    if self.age == other.age:\n",
        "      return True\n",
        "    else:\n",
        "      return False\n",
        "\n",
        "c1 = computer()\n",
        "c1.age = 30\n",
        "c2 = computer()\n",
        "\n",
        "\n",
        "if c1.compare(c2):\n",
        "  print(\"they are same\")\n",
        "else:\n",
        "  print(\"they are different\")\n",
        "\n",
        "print(c1.name)\n",
        "print(c2.name)\n",
        "\n",
        "print(c1.age)\n",
        "print(c2.age)"
      ],
      "metadata": {
        "colab": {
          "base_uri": "https://localhost:8080/"
        },
        "id": "AtiONS_wZ5oQ",
        "outputId": "729f4e3d-9559-41d0-e3c0-bab1fc6ddf21"
      },
      "execution_count": 4,
      "outputs": [
        {
          "output_type": "stream",
          "name": "stdout",
          "text": [
            "they are different\n",
            "Abhishek\n",
            "Abhishek\n",
            "30\n",
            "23\n"
          ]
        }
      ]
    },
    {
      "cell_type": "code",
      "source": [
        "# so, this is class of car.\n",
        "\n",
        "class car:\n",
        "\n",
        "  wheels = 4\n",
        "\n",
        "  def __init__(self):\n",
        "    self.mil = 10\n",
        "    self.com = \"mercedes\" \n",
        "\n",
        "c1 = car()            # object\n",
        "c2 = car()            # object\n",
        "\n",
        "\n",
        "c1.mil = 8\n",
        "car.wheels = 5         # variable\n",
        "\n",
        "\n",
        "print(c1.com,c1.mil,c1.wheels)\n",
        "print(c2.com,c2.mil,c2.wheels)"
      ],
      "metadata": {
        "id": "L5gShTEXbfmh",
        "colab": {
          "base_uri": "https://localhost:8080/"
        },
        "outputId": "8f1a430f-7052-498f-e97c-60c0cce05ba2"
      },
      "execution_count": 5,
      "outputs": [
        {
          "output_type": "stream",
          "name": "stdout",
          "text": [
            "mercedes 8 5\n",
            "mercedes 10 5\n"
          ]
        }
      ]
    },
    {
      "cell_type": "code",
      "source": [
        "# class defining here.\n",
        "\n",
        "class student:\n",
        "\n",
        "  school = \"Prince Public School\"\n",
        "\n",
        "  def __init__(self,m1,m2,m3):\n",
        "    self.m1 = m1\n",
        "    self.m2 = m2\n",
        "    self.m3 = m3\n",
        "\n",
        "  def avg(self):\n",
        "    return(self.m1+self.m2+self.m3)/3        # finding avg.\n",
        "\n",
        "\n",
        "  @classmethod\n",
        "\n",
        "  def getSchool(cls):\n",
        "    return cls.school                # school name.\n",
        " \n",
        "\n",
        "  @staticmethod\n",
        "\n",
        "  def info():\n",
        "    print(\"this is student class.. in abc molude\")            # info of school\n",
        "\n",
        "s1 = student(34,47,32)\n",
        "s2 = student(89,32,12)\n",
        "\n",
        "\n",
        "# try to call method in this sequence\n",
        "\n",
        "print(s1.avg())                         \n",
        "print(student.getSchool())\n",
        "student.info()"
      ],
      "metadata": {
        "colab": {
          "base_uri": "https://localhost:8080/"
        },
        "id": "iYyakgtRuXWy",
        "outputId": "14c84001-7fdc-4b6b-8919-1a6cd6fe4721"
      },
      "execution_count": 6,
      "outputs": [
        {
          "output_type": "stream",
          "name": "stdout",
          "text": [
            "37.666666666666664\n",
            "Prince Public School\n",
            "this is student class.. in abc molude\n"
          ]
        }
      ]
    },
    {
      "cell_type": "code",
      "source": [
        "# class definig here.\n",
        "\n",
        "class student:\n",
        "  def __init__(self,name,rollno):\n",
        "    self.name = name\n",
        "    self.rollni = rollno\n",
        "    self.lap = self.laptop()\n",
        "\n",
        "  def show():\n",
        "    print(self.name, self.rollno)\n",
        "    self.lap.show()\n",
        "\n",
        "\n",
        "  class laptop:              # sub class\n",
        "    def __init__(self):\n",
        "      self.brand = 'HP'\n",
        "      self.cpu = 'i5'\n",
        "      self.ram = 8\n",
        "\n",
        "\n",
        "    def show (self):\n",
        "      print(self.brand,self.cpu,self.ram)\n",
        "\n",
        "\n",
        "s1 = student('Abhishek',2)       # object\n",
        "s2 = student('Bhambak',3)         # object\n",
        "\n",
        "\n"
      ],
      "metadata": {
        "id": "QXUfvNcUxpwj"
      },
      "execution_count": 7,
      "outputs": []
    },
    {
      "cell_type": "code",
      "source": [
        "# here i am trying to create inheritance.\n",
        "\n",
        "class A:       # parent class.\n",
        "\n",
        "  def feature1(self):\n",
        "    print(\"feature 1 working\")\n",
        "\n",
        "  def feature2(self):\n",
        "    print(\"feature 2 working\")\n",
        "\n",
        "\n",
        "class B(A):     # child class\n",
        "  def feature3(self):\n",
        "    print(\"feature 3 working\")\n",
        "\n",
        "  def feature4(self):\n",
        "    print(\"feature 4 working\")\n",
        "\n",
        "\n",
        "a1 = A()         # defining A\n",
        "\n",
        "a1.feature1()\n",
        "a1.feature2()\n",
        "\n",
        "b1 = B()        # defining B\n",
        "\n",
        "b1.feature3()\n",
        "b1.feature4()"
      ],
      "metadata": {
        "colab": {
          "base_uri": "https://localhost:8080/"
        },
        "id": "gq0Hx2Pc0YkB",
        "outputId": "e3701327-2a8b-46ac-dcaa-c590a986739c"
      },
      "execution_count": 8,
      "outputs": [
        {
          "output_type": "stream",
          "name": "stdout",
          "text": [
            "feature 1 working\n",
            "feature 2 working\n",
            "feature 3 working\n",
            "feature 4 working\n"
          ]
        }
      ]
    },
    {
      "cell_type": "code",
      "source": [
        ""
      ],
      "metadata": {
        "id": "Iv5MZopN3uu9"
      },
      "execution_count": 8,
      "outputs": []
    }
  ]
}